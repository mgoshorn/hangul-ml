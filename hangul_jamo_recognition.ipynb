{
  "nbformat": 4,
  "nbformat_minor": 0,
  "metadata": {
    "colab": {
      "name": "hangul-jamo-recognition.ipynb",
      "provenance": [],
      "toc_visible": true,
      "machine_shape": "hm"
    },
    "kernelspec": {
      "name": "python3",
      "display_name": "Python 3"
    }
  },
  "cells": [
    {
      "cell_type": "markdown",
      "metadata": {
        "id": "wZDtCvzOHQ9p",
        "colab_type": "text"
      },
      "source": [
        "# Korean Jamo Image Recognition\n",
        "\n",
        "This demo will use a dataset of Korean characters to train a model to recognize common Korean Jamo.\n",
        "\n",
        "## Dataset\n",
        "\n",
        "This demo uses a dataset of 1000 150x150 images, which each contain a single Korean Jamo. The Jamo are handwritten using a graphics tablet. The dataset is organized into a grid of 150x150 pixel cells that is 20 Jamo wide and 50 Jamo high. Labels are provided in a JSON serialized array. As the data was developed by hand alone, it uses a subset of Korean Jamo to make it easier to manage the amount of data that would be required for training. The current subset of Jamo being used is:\n",
        "\n",
        "> ㄱ ㄴ ㄷ ㄹ ㅁ ㅂ ㅅ ㅇ ㅈ ㅊ ㅋ ㅌ ㅍ ㅎ ㅏ ㅐ ㅑ ㅓ ㅔ ㅕ ㅗ ㅛ ㅜ ㅠ ㅡ ㅣ\n"
      ]
    },
    {
      "cell_type": "code",
      "metadata": {
        "id": "UYmp6HYVHPn8",
        "colab_type": "code",
        "colab": {}
      },
      "source": [
        "import tensorflow as tf\n",
        "import numpy as np\n",
        "import pandas as pd\n",
        "import matplotlib.pyplot as plot\n",
        "import matplotlib.font_manager as fm"
      ],
      "execution_count": 0,
      "outputs": []
    },
    {
      "cell_type": "code",
      "metadata": {
        "id": "Vaihlf_E_b-D",
        "colab_type": "code",
        "outputId": "81e8a120-b410-45aa-f754-ffb3ba0d2594",
        "colab": {
          "base_uri": "https://localhost:8080/",
          "height": 275
        }
      },
      "source": [
        "# Setup Korean-Friendly Font - Necessary as by default matplotlib cannot\n",
        "# properly display Korean characters\n",
        "\n",
        "!wget \"https://noto-website-2.storage.googleapis.com/pkgs/NotoSansCJKkr-hinted.zip\"\n",
        "!unzip \"NotoSansCJKkr-hinted\"\n",
        "!mv NotoSansCJKkr-Medium.otf /usr/share/fonts/truetype\n",
        "\n",
        "path = '/usr/share/fonts/truetype/NotoSansCJKkr-Medium.otf'\n",
        "fontprop = fm.FontProperties(fname=path, size= 15)"
      ],
      "execution_count": 0,
      "outputs": [
        {
          "output_type": "stream",
          "text": [
            "--2019-09-27 14:58:09--  https://noto-website-2.storage.googleapis.com/pkgs/NotoSansCJKkr-hinted.zip\n",
            "Resolving noto-website-2.storage.googleapis.com (noto-website-2.storage.googleapis.com)... 108.177.120.128, 2607:f8b0:4001:c18::80\n",
            "Connecting to noto-website-2.storage.googleapis.com (noto-website-2.storage.googleapis.com)|108.177.120.128|:443... connected.\n",
            "HTTP request sent, awaiting response... 200 OK\n",
            "Length: 121163981 (116M) [application/zip]\n",
            "Saving to: ‘NotoSansCJKkr-hinted.zip.3’\n",
            "\n",
            "NotoSansCJKkr-hinte 100%[===================>] 115.55M   185MB/s    in 0.6s    \n",
            "\n",
            "2019-09-27 14:58:10 (185 MB/s) - ‘NotoSansCJKkr-hinted.zip.3’ saved [121163981/121163981]\n",
            "\n",
            "Archive:  NotoSansCJKkr-hinted.zip\n",
            "replace LICENSE_OFL.txt? [y]es, [n]o, [A]ll, [N]one, [r]ename: N\n",
            "  inflating: NotoSansCJKkr-Medium.otf  \n"
          ],
          "name": "stdout"
        }
      ]
    },
    {
      "cell_type": "code",
      "metadata": {
        "id": "DpVilPVyKxkP",
        "colab_type": "code",
        "outputId": "ad38eb7a-681d-4788-e6dc-6acd7f98e8c8",
        "colab": {
          "base_uri": "https://localhost:8080/",
          "height": 54
        }
      },
      "source": [
        "# Mount google drive to load image/label data\n",
        "from google.colab import drive\n",
        "drive.mount('/content/drive')"
      ],
      "execution_count": 0,
      "outputs": [
        {
          "output_type": "stream",
          "text": [
            "Drive already mounted at /content/drive; to attempt to forcibly remount, call drive.mount(\"/content/drive\", force_remount=True).\n"
          ],
          "name": "stdout"
        }
      ]
    },
    {
      "cell_type": "code",
      "metadata": {
        "id": "QgAvfAYrfI1e",
        "colab_type": "code",
        "colab": {}
      },
      "source": [
        "# Session used to evaluate tensors at runtime\n",
        "# Currently necessary for interaction with matplotlib, though there should be an\n",
        "# alternative solution that doesn't require eager evaluation through an interactive session\n",
        "sess = tf.InteractiveSession()"
      ],
      "execution_count": 0,
      "outputs": []
    },
    {
      "cell_type": "code",
      "metadata": {
        "id": "3bGzX8dXJa6d",
        "colab_type": "code",
        "colab": {}
      },
      "source": [
        "# Read in label data - labels are stored as korean characters, so we will \n",
        "# map them to a numeric index and create an array of those values\n",
        "source_labels = pd.read_json('/content/drive/My Drive/hangul-jamo-ml/labels.json', orient=\"values\", typ=\"series\")\n",
        "source_test_labels = pd.read_json('/content/drive/My Drive/hangul-jamo-ml/test-labels.json', orient=\"values\", typ=\"series\")\n",
        "\n",
        "# Index values from this array will be used to map resultant evaluation values to the jamo that they refernece\n",
        "label_values = ['ㄱ', 'ㄴ', 'ㄷ', 'ㄹ', 'ㅁ', 'ㅂ', 'ㅅ', 'ㅇ', 'ㅈ', 'ㅊ', 'ㅋ', 'ㅌ', 'ㅍ', 'ㅎ', 'ㅏ', 'ㅐ', 'ㅑ', 'ㅓ', 'ㅔ', 'ㅕ', 'ㅗ', 'ㅛ', 'ㅜ', 'ㅠ', 'ㅡ', 'ㅣ']\n",
        "training_labels = []\n",
        "test_labels = []\n",
        "\n",
        "# convert original jamo lables to indexed values\n",
        "for label in source_labels:\n",
        "  training_labels.append(label_values.index(label))\n",
        "\n",
        "for label in source_test_labels:\n",
        "  test_labels.append(label_values.index(label))"
      ],
      "execution_count": 0,
      "outputs": []
    },
    {
      "cell_type": "code",
      "metadata": {
        "id": "fmXd1232yFvD",
        "colab_type": "code",
        "colab": {}
      },
      "source": [
        "# Helper function to process data and return tuple of \n",
        "def process_image(image, image_height, image_width, sub_image_height=150, sub_image_width=150):\n",
        "  # Invert image so that high values represent important parts of the image rather than unimportant\n",
        "  image = 255 - image\n",
        "  \n",
        "  # Reshape tensor for use with matplotlib\n",
        "  image = tf.reshape(image, [-1, sub_image_height, sub_image_width, 1])\n",
        "  # Convert tensor values to float (required by matplotlib - not sure why?)\n",
        "  image = tf.cast(image, tf.float32)\n",
        "  image = tf.reshape(image, [-1, sub_image_height * image_height, sub_image_width * image_width])\n",
        "  \n",
        "  # Map subimages into a batch structure so that they can be handled individually\n",
        "  image_batch = []\n",
        "  for y in range (0, image_height):\n",
        "    for x in range(0, image_width):\n",
        "      cur_slice = tf.slice(image[0], [y*sub_image_height, x*sub_image_width], [sub_image_height, sub_image_width])\n",
        "      image_batch.append(cur_slice)\n",
        "      \n",
        "  # Format Acceptable by matplotlib, as it requires the grayscale pixel value be in an array\n",
        "  graphable_data = tf.convert_to_tensor(image_batch)\n",
        "  # TF does not require this array for processing, so it is removed for the process data\n",
        "  process_data = tf.reshape(graphable_data, [image_height * image_width, sub_image_width, sub_image_height, 1])\n",
        "  return (graphable_data, process_data)"
      ],
      "execution_count": 0,
      "outputs": []
    },
    {
      "cell_type": "code",
      "metadata": {
        "id": "cm-w9qH9Nl92",
        "colab_type": "code",
        "colab": {}
      },
      "source": [
        "# Read in training image files\n",
        "image = tf.image.decode_jpeg(tf.read_file('/content/drive/My Drive/hangul-jamo-ml/dataset.jpg'), channels=1)\n",
        "(training_graph_data, training_process_data) = process_image(image, 50, 20)\n",
        "\n",
        "# Read in testing image files\n",
        "test_image = tf.image.decode_jpeg(tf.read_file('/content/drive/My Drive/hangul-jamo-ml/test-data.jpg'), channels=1)\n",
        "(test_graph_data, test_process_data) = process_image(test_image, 10, 5)\n"
      ],
      "execution_count": 0,
      "outputs": []
    },
    {
      "cell_type": "code",
      "metadata": {
        "id": "bnOSFpIKKEY8",
        "colab_type": "code",
        "outputId": "67ed9494-d8da-4dfc-bc61-bf2071004004",
        "colab": {
          "base_uri": "https://localhost:8080/",
          "height": 269
        }
      },
      "source": [
        "# Sample plot of a single subimage\n",
        "plot.figure()\n",
        "plot.imshow(training_graph_data[0].eval())\n",
        "plot.colorbar()\n",
        "plot.grid(False)\n",
        "plot.show()"
      ],
      "execution_count": 0,
      "outputs": [
        {
          "output_type": "display_data",
          "data": {
            "image/png": "[encoded data removed]",
            "text/plain": [
              "<Figure size 432x288 with 2 Axes>"
            ]
          },
          "metadata": {
            "tags": []
          }
        }
      ]
    },
    {
      "cell_type": "code",
      "metadata": {
        "id": "Bb4CfdAFjwDI",
        "colab_type": "code",
        "outputId": "90273930-9227-4b2d-ae38-5fa078682be4",
        "colab": {
          "base_uri": "https://localhost:8080/",
          "height": 101
        }
      },
      "source": [
        "# Plotting first 10 items with labels\n",
        "# Sample from the dataset\n",
        "plot.figure(figsize=(160,160))\n",
        "for i in range(10):\n",
        "  plot.subplot(160,150,i+1)\n",
        "  plot.xticks([])\n",
        "  plot.yticks([])\n",
        "  plot.xlabel(source_labels[i], fontproperties=fontprop)\n",
        "  plot.imshow(training_graph_data[i].eval(), cmap=plot.cm.binary)\n",
        "  \n",
        "plot.show()"
      ],
      "execution_count": 0,
      "outputs": [
        {
          "output_type": "display_data",
          "data": {
            "image/png": "[encoded data removed]",
            "text/plain": [
              "<Figure size 11520x11520 with 10 Axes>"
            ]
          },
          "metadata": {
            "tags": []
          }
        }
      ]
    },
    {
      "cell_type": "code",
      "metadata": {
        "id": "D-euP25hA8jf",
        "colab_type": "code",
        "outputId": "685a1ff8-ebf6-421c-d8e7-5c510fd5c392",
        "colab": {
          "base_uri": "https://localhost:8080/",
          "height": 1000
        }
      },
      "source": [
        "\n",
        "# Model setup\n",
        "# NN leverages multiple layers of convolution and pooling\n",
        "# Convolution layers randomly extract properties from the image to focus on \n",
        "# Well fitting convolution layers will extract useful properties that help the NN identify Jamo\n",
        "# Convolution layers are followed by pooling layers, which help to reduce image noise and \n",
        "# emphasize patterns in the image\n",
        "\n",
        "model = tf.keras.models.Sequential([\n",
        "    # Note the input shape is the desired size of the image 150x150 with 3 bytes color\n",
        "    # This is the first convolution\n",
        "    tf.keras.layers.Conv2D(64, (3,3), activation='relu', input_shape=(150, 150, 1)),\n",
        "    tf.keras.layers.MaxPooling2D(2, 2),\n",
        "    # The second convolution\n",
        "    tf.keras.layers.Conv2D(64, (3,3), activation='relu'),\n",
        "    tf.keras.layers.MaxPooling2D(2,2),\n",
        "    # The third convolution\n",
        "    tf.keras.layers.Conv2D(128, (3,3), activation='relu'),\n",
        "    tf.keras.layers.MaxPooling2D(2,2),\n",
        "    # The fourth convolution\n",
        "    tf.keras.layers.Conv2D(128, (3,3), activation='relu'),\n",
        "    tf.keras.layers.MaxPooling2D(2,2),\n",
        "    # Flatten the results to feed into a DNN\n",
        "    tf.keras.layers.Flatten(),\n",
        "    tf.keras.layers.Dropout(0.5),\n",
        "    # 512 neuron hidden layer\n",
        "    tf.keras.layers.Dense(512, activation='relu'),\n",
        "    tf.keras.layers.Dense(26, activation='softmax')\n",
        "])\n",
        "\n",
        "\n",
        "model.summary()\n",
        "\n",
        "model.compile(loss = 'sparse_categorical_crossentropy', optimizer='rmsprop', metrics=['accuracy'])\n",
        "\n",
        "model.fit(training_process_data, training_labels, epochs=45, steps_per_epoch=1, verbose=1)"
      ],
      "execution_count": 0,
      "outputs": [
        {
          "output_type": "stream",
          "text": [
            "WARNING:tensorflow:From /usr/local/lib/python3.6/dist-packages/tensorflow/python/ops/init_ops.py:1251: calling VarianceScaling.__init__ (from tensorflow.python.ops.init_ops) with dtype is deprecated and will be removed in a future version.\n",
            "Instructions for updating:\n",
            "Call initializer instance with the dtype argument instead of passing it to the constructor\n",
            "Model: \"sequential\"\n",
            "_________________________________________________________________\n",
            "Layer (type)                 Output Shape              Param #   \n",
            "=================================================================\n",
            "conv2d (Conv2D)              (None, 148, 148, 64)      640       \n",
            "_________________________________________________________________\n",
            "max_pooling2d (MaxPooling2D) (None, 74, 74, 64)        0         \n",
            "_________________________________________________________________\n",
            "conv2d_1 (Conv2D)            (None, 72, 72, 64)        36928     \n",
            "_________________________________________________________________\n",
            "max_pooling2d_1 (MaxPooling2 (None, 36, 36, 64)        0         \n",
            "_________________________________________________________________\n",
            "conv2d_2 (Conv2D)            (None, 34, 34, 128)       73856     \n",
            "_________________________________________________________________\n",
            "max_pooling2d_2 (MaxPooling2 (None, 17, 17, 128)       0         \n",
            "_________________________________________________________________\n",
            "conv2d_3 (Conv2D)            (None, 15, 15, 128)       147584    \n",
            "_________________________________________________________________\n",
            "max_pooling2d_3 (MaxPooling2 (None, 7, 7, 128)         0         \n",
            "_________________________________________________________________\n",
            "flatten (Flatten)            (None, 6272)              0         \n",
            "_________________________________________________________________\n",
            "dropout (Dropout)            (None, 6272)              0         \n",
            "_________________________________________________________________\n",
            "dense (Dense)                (None, 512)               3211776   \n",
            "_________________________________________________________________\n",
            "dense_1 (Dense)              (None, 26)                13338     \n",
            "=================================================================\n",
            "Total params: 3,484,122\n",
            "Trainable params: 3,484,122\n",
            "Non-trainable params: 0\n",
            "_________________________________________________________________\n",
            "Epoch 1/45\n",
            "1/1 [==============================] - 40s 40s/step - loss: 21.3322 - acc: 0.0270\n",
            "Epoch 2/45\n",
            "1/1 [==============================] - 34s 34s/step - loss: 47.1835 - acc: 0.0870\n",
            "Epoch 3/45\n",
            "1/1 [==============================] - 35s 35s/step - loss: 5.9594 - acc: 0.0930\n",
            "Epoch 4/45\n",
            "1/1 [==============================] - 34s 34s/step - loss: 3.3387 - acc: 0.1330\n",
            "Epoch 5/45\n",
            "1/1 [==============================] - 33s 33s/step - loss: 3.1833 - acc: 0.1980\n",
            "Epoch 6/45\n",
            "1/1 [==============================] - 33s 33s/step - loss: 3.1193 - acc: 0.2210\n",
            "Epoch 7/45\n",
            "1/1 [==============================] - 34s 34s/step - loss: 2.9886 - acc: 0.2520\n",
            "Epoch 8/45\n",
            "1/1 [==============================] - 33s 33s/step - loss: 2.6858 - acc: 0.3410\n",
            "Epoch 9/45\n",
            "1/1 [==============================] - 33s 33s/step - loss: 2.2076 - acc: 0.3910\n",
            "Epoch 10/45\n",
            "1/1 [==============================] - 32s 32s/step - loss: 2.1363 - acc: 0.4490\n",
            "Epoch 11/45\n",
            "1/1 [==============================] - 33s 33s/step - loss: 1.4567 - acc: 0.5500\n",
            "Epoch 12/45\n",
            "1/1 [==============================] - 33s 33s/step - loss: 1.8855 - acc: 0.4810\n",
            "Epoch 13/45\n",
            "1/1 [==============================] - 33s 33s/step - loss: 1.5065 - acc: 0.6190\n",
            "Epoch 14/45\n",
            "1/1 [==============================] - 33s 33s/step - loss: 0.8502 - acc: 0.7270\n",
            "Epoch 15/45\n",
            "1/1 [==============================] - 33s 33s/step - loss: 0.9277 - acc: 0.6960\n",
            "Epoch 16/45\n",
            "1/1 [==============================] - 32s 32s/step - loss: 1.0302 - acc: 0.6990\n",
            "Epoch 17/45\n",
            "1/1 [==============================] - 33s 33s/step - loss: 0.8417 - acc: 0.7640\n",
            "Epoch 18/45\n",
            "1/1 [==============================] - 32s 32s/step - loss: 0.4481 - acc: 0.8680\n",
            "Epoch 19/45\n",
            "1/1 [==============================] - 33s 33s/step - loss: 0.3818 - acc: 0.8770\n",
            "Epoch 20/45\n",
            "1/1 [==============================] - 32s 32s/step - loss: 0.5574 - acc: 0.8370\n",
            "Epoch 21/45\n",
            "1/1 [==============================] - 32s 32s/step - loss: 0.6591 - acc: 0.8060\n",
            "Epoch 22/45\n",
            "1/1 [==============================] - 32s 32s/step - loss: 0.3589 - acc: 0.9050\n",
            "Epoch 23/45\n",
            "1/1 [==============================] - 32s 32s/step - loss: 0.2114 - acc: 0.9400\n",
            "Epoch 24/45\n",
            "1/1 [==============================] - 33s 33s/step - loss: 0.1762 - acc: 0.9430\n",
            "Epoch 25/45\n",
            "1/1 [==============================] - 35s 35s/step - loss: 0.1761 - acc: 0.9410\n",
            "Epoch 26/45\n",
            "1/1 [==============================] - 33s 33s/step - loss: 0.1967 - acc: 0.9410\n",
            "Epoch 27/45\n",
            "1/1 [==============================] - 32s 32s/step - loss: 0.1914 - acc: 0.9230\n",
            "Epoch 28/45\n",
            "1/1 [==============================] - 33s 33s/step - loss: 0.2216 - acc: 0.9310\n",
            "Epoch 29/45\n",
            "1/1 [==============================] - 33s 33s/step - loss: 0.1863 - acc: 0.9370\n",
            "Epoch 30/45\n",
            "1/1 [==============================] - 33s 33s/step - loss: 0.2387 - acc: 0.9090\n",
            "Epoch 31/45\n",
            "1/1 [==============================] - 34s 34s/step - loss: 0.4573 - acc: 0.8830\n",
            "Epoch 32/45\n",
            "1/1 [==============================] - 33s 33s/step - loss: 0.2813 - acc: 0.9080\n",
            "Epoch 33/45\n",
            "1/1 [==============================] - 33s 33s/step - loss: 0.1042 - acc: 0.9740\n",
            "Epoch 34/45\n",
            "1/1 [==============================] - 33s 33s/step - loss: 0.0695 - acc: 0.9840\n",
            "Epoch 35/45\n",
            "1/1 [==============================] - 32s 32s/step - loss: 0.0424 - acc: 0.9870\n",
            "Epoch 36/45\n",
            "1/1 [==============================] - 33s 33s/step - loss: 0.0372 - acc: 0.9950\n",
            "Epoch 37/45\n",
            "1/1 [==============================] - 33s 33s/step - loss: 0.0283 - acc: 0.9950\n",
            "Epoch 38/45\n",
            "1/1 [==============================] - 32s 32s/step - loss: 0.0260 - acc: 0.9970\n",
            "Epoch 39/45\n",
            "1/1 [==============================] - 33s 33s/step - loss: 0.0324 - acc: 0.9920\n",
            "Epoch 40/45\n",
            "1/1 [==============================] - 33s 33s/step - loss: 0.0302 - acc: 0.9890\n",
            "Epoch 41/45\n",
            "1/1 [==============================] - 32s 32s/step - loss: 0.0262 - acc: 0.9920\n",
            "Epoch 42/45\n",
            "1/1 [==============================] - 33s 33s/step - loss: 0.0230 - acc: 0.9940\n",
            "Epoch 43/45\n",
            "1/1 [==============================] - 33s 33s/step - loss: 0.0246 - acc: 0.9950\n",
            "Epoch 44/45\n",
            "1/1 [==============================] - 33s 33s/step - loss: 0.0262 - acc: 0.9920\n",
            "Epoch 45/45\n",
            "1/1 [==============================] - 32s 32s/step - loss: 0.0250 - acc: 0.9920\n"
          ],
          "name": "stdout"
        },
        {
          "output_type": "execute_result",
          "data": {
            "text/plain": [
              "<tensorflow.python.keras.callbacks.History at 0x7fd3eb806fd0>"
            ]
          },
          "metadata": {
            "tags": []
          },
          "execution_count": 12
        }
      ]
    },
    {
      "cell_type": "code",
      "metadata": {
        "id": "OKzKNRuwLBAi",
        "colab_type": "code",
        "outputId": "7818a2af-b69f-4fdb-8ae9-c530cffca3af",
        "colab": {
          "base_uri": "https://localhost:8080/",
          "height": 51
        }
      },
      "source": [
        "# Test against test data\n",
        "test_loss, test_acc = model.evaluate(test_process_data, test_labels, steps=1)\n",
        "print('Test accuracy:', test_acc)"
      ],
      "execution_count": 0,
      "outputs": [
        {
          "output_type": "stream",
          "text": [
            "\r1/1 [==============================] - 1s 790ms/step - loss: 0.0682 - acc: 0.9800\n",
            "Test accuracy: 0.98\n"
          ],
          "name": "stdout"
        }
      ]
    },
    {
      "cell_type": "code",
      "metadata": {
        "id": "6dzbWI19ay4V",
        "colab_type": "code",
        "colab": {}
      },
      "source": [
        "# Utility function to view evaluation results with actual image\n",
        "def show_prediction(id, process_data, graph_data):\n",
        "  prediction_data = model.predict(tf.convert_to_tensor([process_data[id]]), steps=1)[0]\n",
        "  print(prediction_data)\n",
        "  max_value = prediction_data[0];\n",
        "  max_index = 0\n",
        "\n",
        "  for x in range(1, 26):\n",
        "    if prediction_data[x] > max_value:\n",
        "      max_value = prediction_data[x]\n",
        "      max_index = x\n",
        "\n",
        "  predictedHangul = label_values[max_index]\n",
        "\n",
        "\n",
        "  plot.figure()\n",
        "  plot.imshow(graph_data[id].eval())\n",
        "  plot.colorbar()\n",
        "  plot.grid(False)\n",
        "  plot.xlabel('Prediction: ' + predictedHangul, fontproperties=fontprop)\n",
        "  plot.show()"
      ],
      "execution_count": 0,
      "outputs": []
    },
    {
      "cell_type": "code",
      "metadata": {
        "id": "9m6DnnvTV4YA",
        "colab_type": "code",
        "outputId": "602583b7-eeb3-4f0c-ef42-7103cf462ee7",
        "colab": {
          "base_uri": "https://localhost:8080/",
          "height": 392
        }
      },
      "source": [
        "show_prediction(24, test_process_data, test_graph_data)"
      ],
      "execution_count": 0,
      "outputs": [
        {
          "output_type": "stream",
          "text": [
            "[6.9800069e-07 6.5261387e-04 2.7895103e-05 1.2191073e-03 1.4777191e-03\n",
            " 4.2595032e-01 6.9325280e-05 3.7226670e-05 1.0067614e-06 1.7456384e-04\n",
            " 2.6843374e-05 3.7644155e-04 3.6933940e-05 9.7401551e-07 7.9084944e-05\n",
            " 5.6905580e-01 3.1666516e-04 6.0776401e-05 2.0598996e-04 3.5852812e-05\n",
            " 3.9378861e-07 8.9471432e-05 1.7446175e-05 3.0521162e-06 6.2648709e-08\n",
            " 8.3737963e-05]\n"
          ],
          "name": "stdout"
        },
        {
          "output_type": "display_data",
          "data": {
            "image/png": "[encoded data removed]",
            "text/plain": [
              "<Figure size 432x288 with 2 Axes>"
            ]
          },
          "metadata": {
            "tags": []
          }
        }
      ]
    },
    {
      "cell_type": "code",
      "metadata": {
        "id": "RkhwnV4lKrsk",
        "colab_type": "code",
        "outputId": "3a631e1c-702e-4b96-e4ff-099c51bfa451",
        "colab": {
          "base_uri": "https://localhost:8080/",
          "height": 34
        }
      },
      "source": [
        "model"
      ],
      "execution_count": 0,
      "outputs": [
        {
          "output_type": "execute_result",
          "data": {
            "text/plain": [
              "<tensorflow.python.keras.engine.sequential.Sequential at 0x7fd3ebde4080>"
            ]
          },
          "metadata": {
            "tags": []
          },
          "execution_count": 21
        }
      ]
    }
  ]
}